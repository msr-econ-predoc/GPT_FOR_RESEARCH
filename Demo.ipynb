{
 "cells": [
  {
   "cell_type": "code",
   "execution_count": 7,
   "metadata": {},
   "outputs": [],
   "source": [
    "import os\n",
    "import gpt_functions\n",
    "import json\n",
    "import pandas as pd\n",
    "import seaborn as sns\n",
    "import json\n",
    "import pickle\n",
    "import openai\n",
    "from bs4 import BeautifulSoup, NavigableString\n",
    "import matplotlib.pyplot as plt"
   ]
  },
  {
   "cell_type": "markdown",
   "metadata": {},
   "source": [
    "### Read in the Data:"
   ]
  },
  {
   "cell_type": "code",
   "execution_count": 8,
   "metadata": {},
   "outputs": [],
   "source": [
    "df = pd.read_csv(\"captain_marvel_sample.csv\") # Here we use a subsample of the data to ensure the code doesn't run forever! Feel free to further cut it down. "
   ]
  },
  {
   "cell_type": "code",
   "execution_count": 9,
   "metadata": {},
   "outputs": [
    {
     "data": {
      "text/plain": [
       "Text(0.5, 1.0, 'Distribution of Scores')"
      ]
     },
     "execution_count": 9,
     "metadata": {},
     "output_type": "execute_result"
    },
    {
     "data": {
      "image/png": "[encoded data removed]",
      "text/plain": [
       "<Figure size 1000x600 with 1 Axes>"
      ]
     },
     "metadata": {},
     "output_type": "display_data"
    }
   ],
   "source": [
    "fig, ax = plt.subplots(figsize=(10, 6))\n",
    "sns.histplot(df['score'], discrete=True, stat=\"percent\", common_norm=False, ax=ax)\n",
    "plt.xlabel(\"Score\")\n",
    "plt.ylabel(\"Percentage\")\n",
    "plt.title(\"Distribution of Scores\")"
   ]
  },
  {
   "cell_type": "markdown",
   "metadata": {},
   "source": [
    "### Prepare GPT Prompts"
   ]
  },
  {
   "cell_type": "code",
   "execution_count": 10,
   "metadata": {},
   "outputs": [],
   "source": [
    "def make_prompt(text):\n",
    "   return \"\"\"Below is a review of a movie. Please read the review and determine whether it is politically motivated (score = 1) or not (score = 0). \\n\"\"\" + text"
   ]
  },
  {
   "cell_type": "markdown",
   "metadata": {},
   "source": [
    "### Run ChatGPT Queries"
   ]
  },
  {
   "cell_type": "code",
   "execution_count": null,
   "metadata": {},
   "outputs": [],
   "source": [
    "is_political = []\n",
    "reasoning = []\n",
    "for i, row in df.iterrows():\n",
    "    prompt = make_prompt(row[\"review\"]) # Creates the prompt for that row entry\n",
    "    response = gpt_functions.ask_GPT_JSON(prompt, json_schema) # Calls the GPT function\n",
    "    print(response) # Prints the response\n",
    "    response = json.loads(response) # Converts the response to a dictionary\n",
    "    is_political.append(response[\"is_political\"]) # Appends the is_political value to the list\n",
    "    reasoning.append(response[\"reasoning\"]) # Appends the reasoning value to the list"
   ]
  },
  {
   "cell_type": "code",
   "execution_count": null,
   "metadata": {},
   "outputs": [],
   "source": [
    "df['is_political'] = is_political # Adds the is_political column to the dataframe"
   ]
  },
  {
   "cell_type": "markdown",
   "metadata": {},
   "source": [
    "### Auditing ChatGPT\n",
    "\n",
    "In this section we create an html that will allow us to quickly and efficiently evaluate chatGPT. All relevant functions are in the \"html_function.py\" file. "
   ]
  },
  {
   "cell_type": "code",
   "execution_count": 11,
   "metadata": {},
   "outputs": [],
   "source": [
    "from html_functions import *"
   ]
  },
  {
   "cell_type": "code",
   "execution_count": null,
   "metadata": {},
   "outputs": [],
   "source": [
    "to_make_html = df.iloc[:50, :] # Here we only take the first 50 rows, and use these to conduct the audit. \n",
    "to_make_html = to_make_html.iloc[:,[2, 3, 4]] # Take only selected columns\n",
    "to_make_html['audit_score'] = \"select\" # Add a column for the audit score"
   ]
  },
  {
   "cell_type": "code",
   "execution_count": null,
   "metadata": {},
   "outputs": [],
   "source": [
    "to_make_html.to_html(\"captain_marvel_sample_labeled.html\", escape=False) # Save the HTML file"
   ]
  },
  {
   "cell_type": "code",
   "execution_count": null,
   "metadata": {},
   "outputs": [],
   "source": [
    "tables = [to_make_html.to_html(escape=False)] # Create a list of tables to be converted to HTML"
   ]
  },
  {
   "cell_type": "code",
   "execution_count": null,
   "metadata": {},
   "outputs": [],
   "source": [
    "soup = make_tab_table(tables)\n",
    "make_final_html(soup, \"captain_marvel_sample_labeled.html\") # Create the final HTML file"
   ]
  },
  {
   "cell_type": "code",
   "execution_count": 12,
   "metadata": {},
   "outputs": [],
   "source": [
    "# Below are my scores from the audit. If you're running these for the demo, this will do. \n",
    "audit_scores=[0, 1, 0, 0, 0, 0, 1, 0, 0, 0, 0, 0, 0, 0, 0, 0, 1, 1, 0, 0, 0, 0, 0, 0, 0, 1, 1, 0, 0, 0, 0, 0, 0, 0, 0, 0, 1, 0, 0, 0, 0, 0, 0, 0, 0, 1, 0, 0, 0, 0]"
   ]
  },
  {
   "cell_type": "code",
   "execution_count": null,
   "metadata": {},
   "outputs": [],
   "source": [
    "to_make_html['audit_scores'] = audit_scores\n",
    "pd.crosstab(to_make_html['is_political'], to_make_html['audit_scores']).to_latex('crosstab.tex')"
   ]
  }
 ],
 "metadata": {
  "kernelspec": {
   "display_name": "CatchALL",
   "language": "python",
   "name": "python3"
  },
  "language_info": {
   "codemirror_mode": {
    "name": "ipython",
    "version": 3
   },
   "file_extension": ".py",
   "mimetype": "text/x-python",
   "name": "python",
   "nbconvert_exporter": "python",
   "pygments_lexer": "ipython3",
   "version": "3.10.12"
  }
 },
 "nbformat": 4,
 "nbformat_minor": 2
}
